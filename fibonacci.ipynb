{
 "cells": [
  {
   "cell_type": "code",
   "execution_count": null,
   "id": "15cfcc61-f2e9-4701-8822-05d2a259fdf7",
   "metadata": {},
   "outputs": [],
   "source": [
    "def fibonacci_series(n):\n",
    "    a, b = 0, 1\n",
    "    for _ in range(n):\n",
    "        print(a, end=' ')\n",
    "        a, b = b, a + b\n",
    "\n",
    "# Example: Print first 10 Fibonacci numbers\n",
    "fibonacci_series(10)"
   ]
  }
 ],
 "metadata": {
  "kernelspec": {
   "display_name": "Python 3 (ipykernel)",
   "language": "python",
   "name": "python3"
  },
  "language_info": {
   "codemirror_mode": {
    "name": "ipython",
    "version": 3
   },
   "file_extension": ".py",
   "mimetype": "text/x-python",
   "name": "python",
   "nbconvert_exporter": "python",
   "pygments_lexer": "ipython3",
   "version": "3.12.7"
  }
 },
 "nbformat": 4,
 "nbformat_minor": 5
}
